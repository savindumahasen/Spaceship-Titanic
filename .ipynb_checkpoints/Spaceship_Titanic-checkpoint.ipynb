{
 "cells": [
  {
   "cell_type": "code",
   "execution_count": null,
   "id": "d91c3976-4cf7-4d22-bc75-096e9861868f",
   "metadata": {},
   "outputs": [],
   "source": [
    "## import the pandas library\n",
    "import pandas as pd\n",
    "from sklearn.metrics import accuracy_score, precision_score, recall_score, f1_score, classification_report, confusion_matrix\n",
    "from sklearn.metrics import mean_squared_error"
   ]
  },
  {
   "cell_type": "code",
   "execution_count": null,
   "id": "604b7545-cb39-4fd3-bbdd-56242a67ba63",
   "metadata": {},
   "outputs": [],
   "source": [
    "training_set = pd.read_csv(\"train.csv\")\n",
    "training_set.head()"
   ]
  },
  {
   "cell_type": "code",
   "execution_count": null,
   "id": "4c1cdfab-f067-478f-8c12-e6e7a89659bf",
   "metadata": {},
   "outputs": [],
   "source": [
    "testing_set = pd.read_csv(\"test.csv\")\n",
    "testing_set.head()"
   ]
  },
  {
   "cell_type": "code",
   "execution_count": null,
   "id": "bc1e6e80-7466-47b6-8a35-c0e5ee1643c2",
   "metadata": {},
   "outputs": [],
   "source": [
    "%matplotlib inline\n",
    "import matplotlib.pyplot as plt\n",
    "training_set.hist(bins=10, figsize=(30,30))\n",
    "plt.show()"
   ]
  },
  {
   "cell_type": "code",
   "execution_count": null,
   "id": "997ecd59-ccd7-47da-b3ce-2e18b89132aa",
   "metadata": {},
   "outputs": [],
   "source": [
    "### summer statistics of the training set"
   ]
  },
  {
   "cell_type": "code",
   "execution_count": null,
   "id": "b23337c0-79f4-4345-95e9-383b9bf02408",
   "metadata": {},
   "outputs": [],
   "source": [
    "training_set.info()"
   ]
  },
  {
   "cell_type": "markdown",
   "id": "9ed03de0-6b3f-4239-b93c-c1727f6b23fd",
   "metadata": {},
   "source": [
    "## EDA (Explotary Data Analysis)"
   ]
  },
  {
   "cell_type": "code",
   "execution_count": null,
   "id": "5d5399d9-9e82-4ff8-b1e5-97cb8a1c9b3d",
   "metadata": {},
   "outputs": [],
   "source": [
    "training_set"
   ]
  },
  {
   "cell_type": "code",
   "execution_count": null,
   "id": "e4a01511-e382-48b0-8f98-8b20dabae44e",
   "metadata": {},
   "outputs": [],
   "source": [
    "import pandas as pd\n",
    "\n",
    "# Assuming your DataFrame is named 'df'\n",
    "# Replace 'HomePlane' with the actual name of your column\n",
    "# Replace np.nan with the actual representation of null values in your DataFrame\n",
    "training_set.loc[training_set['HomePlanet'].isnull(), 'HomePlanet'] = 'Earth'\n",
    "training_set.loc[training_set['Destination'].isnull(), 'Destination']  ='TRAPPIST-1e'\n",
    "training_set.loc[training_set['Age'].isnull(), 'Age']  = training_set['Age'].median()\n",
    "training_set.loc[training_set['RoomService'].isnull(), 'RoomService'] = training_set['RoomService'].median()\n",
    "training_set.loc[training_set['FoodCourt'].isnull(), 'FoodCourt'] = training_set['FoodCourt'].median()\n",
    "training_set.loc[training_set['ShoppingMall'].isnull(), 'ShoppingMall'] = training_set['ShoppingMall'].median()\n",
    "training_set.loc[training_set['Spa'].isnull(), 'Spa'] = training_set['Spa'].median()\n",
    "training_set.loc[training_set['VRDeck'].isnull(), 'VRDeck'] = training_set['VRDeck'].median()\n",
    "training_set.drop('Name', axis=1, inplace=True)\n",
    "training_set.drop('Cabin',axis=1, inplace=True)"
   ]
  },
  {
   "cell_type": "code",
   "execution_count": null,
   "id": "6c9bfbcb-a7f7-4598-abad-9c8b0d60332b",
   "metadata": {},
   "outputs": [],
   "source": [
    "#training_set['HomePlanet'].fillna(training_set['HomePlanet'].mean(), inplace=True)"
   ]
  },
  {
   "cell_type": "code",
   "execution_count": null,
   "id": "acf15bac-977a-41af-b28f-500fcc86f554",
   "metadata": {},
   "outputs": [],
   "source": [
    "training_set['CryoSleep'].fillna(False, inplace=True)\n",
    "training_set['VIP'].fillna(False, inplace=True)"
   ]
  },
  {
   "cell_type": "code",
   "execution_count": null,
   "id": "eb0d39b6-58a3-4b63-80be-53599920a698",
   "metadata": {},
   "outputs": [],
   "source": [
    "training_set.info()"
   ]
  },
  {
   "cell_type": "code",
   "execution_count": null,
   "id": "f0503afb-d60a-4372-84a3-338b4e3d1d66",
   "metadata": {},
   "outputs": [],
   "source": [
    "import pandas as pd\n",
    "\n",
    "# Set the option to display all rows\n",
    "pd.set_option('display.max_rows', None)\n",
    "\n",
    "# Assuming 'training_set' is your DataFrame containing your training dataset\n",
    "print(training_set.head())"
   ]
  },
  {
   "cell_type": "code",
   "execution_count": null,
   "id": "9c8e2ac1-40f3-4016-b0eb-876a3fb2ec0b",
   "metadata": {},
   "outputs": [],
   "source": [
    "training_set.replace({'HomePlanet':{'Earth':10,'Europa':20, 'Mars':30}},inplace=True)\n",
    "training_set.replace({'Destination':{'TRAPPIST-1e':10,'55 Cancri e':20, 'PSO J318.5-22':30}},inplace=True)\n",
    "\n",
    "#fill null age values\n",
    "#training_set['CryoSleep'].fillna(training_set['CryoSleep'], inplace=True)\n",
    "\n",
    "#fill embarked values\n",
    "#print(train_data['Embarked'].mode())\n",
    "#train_data['Embarked'].fillna(train_data['Embarked'].mode()[0], inplace=True)\n",
    "\n",
    "\n",
    "#training_set_pd = training_set\n",
    "#training_set_pd"
   ]
  },
  {
   "cell_type": "code",
   "execution_count": null,
   "id": "24eb3503-421c-4c2a-a2de-4fa9c4e6b89c",
   "metadata": {},
   "outputs": [],
   "source": [
    "training_set.head(100)"
   ]
  },
  {
   "cell_type": "code",
   "execution_count": null,
   "id": "0568a882-73e2-4d75-b4c9-e51168f39fd1",
   "metadata": {},
   "outputs": [],
   "source": [
    "## our target variable is Transported. that variable is available in dataset. which means we need to use \n",
    "##the supervised learning method"
   ]
  },
  {
   "cell_type": "code",
   "execution_count": null,
   "id": "be5c34f8-de6f-4a38-bf1c-516a2efd4a2a",
   "metadata": {},
   "outputs": [],
   "source": [
    "training_set_data = training_set.drop(\"Transported\", axis=1)\n",
    "\n",
    "training_set_data.head()"
   ]
  },
  {
   "cell_type": "code",
   "execution_count": null,
   "id": "b5fbdfd1-1c5c-4125-bb67-5bf57a1f18b9",
   "metadata": {},
   "outputs": [],
   "source": [
    "training_set_data_label = training_set['Transported'].copy()\n",
    "training_set_data_label.head()"
   ]
  },
  {
   "cell_type": "code",
   "execution_count": null,
   "id": "8b3894cf-d51f-49d2-99b5-79403fb7b2a6",
   "metadata": {},
   "outputs": [],
   "source": [
    "training_set_data_label.info()"
   ]
  },
  {
   "cell_type": "markdown",
   "id": "e23ef3fe-5bc6-42b6-89b1-46882a480af3",
   "metadata": {},
   "source": [
    "# Select the ML model and training"
   ]
  },
  {
   "cell_type": "code",
   "execution_count": null,
   "id": "ffefecdf-056a-4ed7-8314-80a9bcd175fd",
   "metadata": {},
   "outputs": [],
   "source": [
    "## split the training dataset into  the  training and validation set for training and validating model"
   ]
  },
  {
   "cell_type": "code",
   "execution_count": null,
   "id": "009e7928-343d-424c-a5ef-e49203480895",
   "metadata": {},
   "outputs": [],
   "source": [
    "from sklearn.model_selection import train_test_split\n",
    "\n",
    "# Splitting train set into the training and validation set\n",
    "X_train, X_test, y_train, y_test = train_test_split(training_set_data, training_set_data_label, test_size=0.2, random_state=42)\n",
    "\n"
   ]
  },
  {
   "cell_type": "code",
   "execution_count": null,
   "id": "5ff72ff4-9392-4f96-9046-0448f95d7fd1",
   "metadata": {},
   "outputs": [],
   "source": [
    "X_train.head()"
   ]
  },
  {
   "cell_type": "code",
   "execution_count": null,
   "id": "89881842-2e90-434d-876f-4026de04e7f9",
   "metadata": {},
   "outputs": [],
   "source": [
    "y_test.head()"
   ]
  },
  {
   "cell_type": "code",
   "execution_count": null,
   "id": "e013c4a0-c3c2-4f28-9005-08e155a48bc1",
   "metadata": {},
   "outputs": [],
   "source": [
    " #Import models\n",
    "from sklearn.tree import DecisionTreeClassifier\n",
    "Dt_clf = DecisionTreeClassifier(random_state=42)\n",
    "Dt_clf.fit(X_train, y_train)"
   ]
  },
  {
   "cell_type": "code",
   "execution_count": null,
   "id": "43ee6bed-deaa-46ad-a674-0d395b3415a0",
   "metadata": {},
   "outputs": [],
   "source": [
    "Dt_value_predictions = Dt_clf.predict(X_test)\n",
    "Dt_value_accuracy = accuracy_score(y_test, Dt_value_predictions)\n",
    "print(f\"\\nValidation Accuracy: {Dt_value_accuracy:.4f}\")"
   ]
  },
  {
   "cell_type": "code",
   "execution_count": null,
   "id": "97899205-96fc-4e1e-b041-31602286f84a",
   "metadata": {},
   "outputs": [],
   "source": [
    "from sklearn.linear_model import LogisticRegression\n",
    "LR_clf = LogisticRegression(random_state=42)\n",
    "LR_clf.fit(X_train, y_train)"
   ]
  },
  {
   "cell_type": "code",
   "execution_count": null,
   "id": "8004673f-71b4-4571-b3f7-b5dd20fe7318",
   "metadata": {},
   "outputs": [],
   "source": [
    "Lr_value_predictions =LR_clf.predict(X_test)\n",
    "Lr_value_accuracy = accuracy_score(y_test, Lr_value_predictions)\n",
    "print(f\"\\nValidation Accuracy: {Lr_value_accuracy:.4f}\")\n"
   ]
  },
  {
   "cell_type": "code",
   "execution_count": null,
   "id": "397d0aac-35ba-451e-99e3-17ba8eb17f4a",
   "metadata": {},
   "outputs": [],
   "source": [
    "def modelEvaluation(model, X_test, y_test):\n",
    "    y_pred = model.predict(X_test)\n",
    "\n",
    "    accuracy = accuracy_score(y_test, y_pred)\n",
    "    precision = precision_score(y_test, y_pred, average='weighted')\n",
    "    recall = recall_score(y_test, y_pred, average='weighted')\n",
    "    f1 = f1_score(y_test, y_pred, average='weighted')\n",
    "    print(f\"Accuracy: {accuracy:.4f}\")\n",
    "    print(f\"Precision: {precision:.4f}\")\n",
    "    print(f\"Recall: {recall:.4f}\")\n",
    "    print(f\"F1 Score: {f1:.4f}\")\n",
    "\n",
    "    print(\"\\nClassification Report:\")\n",
    "    print(classification_report(y_test, y_pred))\n",
    "\n",
    "    print(\"\\nConfusion Matrix:\")\n",
    "    print(confusion_matrix(y_test, y_pred))\n",
    "\n",
    "    # Return accuracy for later use\n",
    "    return accuracy\n",
    "    \n",
    "\n",
    "# Now you can use the evaluate function with your models\n",
    "print(\"Logistic Regression\")\n",
    "LR_accuracy = modelEvaluation(LR_clf, X_test, y_test)\n",
    "\n",
    "print(\"Decision Tree\")\n",
    "DT_accuracy = modelEvaluation(Dt_clf , X_test, y_test)\n",
    "\n",
    "\n",
    "# Now you have the accuracy scores stored in variables for later use\n",
    "print(f\"LR Accuracy: {LR_accuracy:.4f}\")\n",
    "print(f\"DT Accuracy: {DT_accuracy:.4f}\")"
   ]
  },
  {
   "cell_type": "markdown",
   "id": "6732fb98-ff72-4d73-813a-8ea12c2f63b9",
   "metadata": {},
   "source": [
    "# Gridsearch  CV\n"
   ]
  },
  {
   "cell_type": "code",
   "execution_count": null,
   "id": "1ca209c2-d902-4bdd-ad64-7781ff8c6158",
   "metadata": {},
   "outputs": [],
   "source": [
    "import pandas as pd\n",
    "from sklearn.model_selection import GridSearchCV\n",
    "from sklearn.linear_model import LogisticRegression\n",
    "\n",
    "# Split the dataset into training and testing sets\n",
    "X_train, X_test, y_train, y_test = train_test_split(training_set_data, training_set_data_label, test_size=0.2, random_state=42)\n",
    "\n",
    "# Instantiate logistic regression model\n",
    "logreg_model = LogisticRegression(random_state=42)\n",
    "logreg_model.fit(X_train,y_train)\n",
    "\n",
    "# Define the hyperparameters grid\n",
    "param_grid = {\n",
    "    'C': [0.001, 0.01, 0.1, 1, 10, 100], \n",
    "    'penalty': ['l2'],  # Only 'l2' penalty for lbfgs solver\n",
    "    'solver': ['lbfgs']\n",
    "}\n",
    "grid_search = GridSearchCV(logreg_model, param_grid, cv=5, scoring='accuracy')\n",
    "grid_search.fit(X_train, y_train)\n",
    "\n",
    "# Best parameters found\n",
    "best_params = grid_search.best_params_\n",
    "print(\"Best Parameters:\", best_params)\n",
    "\n",
    "# Train the model with best parameters\n",
    "best_logreg_model = grid_search.best_estimator_\n",
    "best_logreg_model.fit(X_train, y_train)\n",
    "\n",
    "# Predictions on the test set\n",
    "test_set_predictions = best_logreg_model.predict(X_test)\n",
    "\n",
    "# Calculate evaluation metrics\n",
    "accuracy = accuracy_score(y_test, test_set_predictions)\n",
    "precision = precision_score(y_test, test_set_predictions, average='weighted')\n",
    "recall = recall_score(y_test, test_set_predictions, average='weighted')\n",
    "\n",
    "f1 = f1_score(y_test, test_set_predictions, average='weighted')\n",
    "\n",
    "print(\"Logistic Regression Classifier Metrics:\")\n",
    "print(f\"Accuracy: {accuracy:.4f}\")\n",
    "print(f\"Precision: {precision:.4f}\")\n",
    "print(f\"Recall: {recall:.4f}\")\n",
    "print(f\"F1 Score: {f1:.4f}\")\n",
    "\n",
    "print(\"\\nClassification Report:\")\n",
    "print(classification_report(y_test, test_set_predictions))\n",
    "\n",
    "print(\"\\nConfusion Matrix:\")\n",
    "print(confusion_matrix(y_test, test_set_predictions))\n",
    "\n",
    "\n",
    "# Print Results\n",
    "print(\"Logistic regression Validation Accuracy:\", accuracy)\n"
   ]
  },
  {
   "cell_type": "code",
   "execution_count": null,
   "id": "f96fa6b2-e0db-4a2f-b258-90ec88be46ed",
   "metadata": {},
   "outputs": [],
   "source": [
    "from sklearn.model_selection import GridSearchCV\n",
    "from sklearn.tree import DecisionTreeClassifier\n",
    "\n",
    "\n",
    "# Split the data into train and test sets\n",
    "X_train, X_test, y_train, y_test = train_test_split(training_set_data, training_set_data_label, test_size=0.2, random_state=42)\n",
    "\n",
    "# Decision Tree Classifier\n",
    "dt_clf = DecisionTreeClassifier(random_state=42)\n",
    "dt_clf.fit(X_train, y_train)\n",
    "\n",
    "\n",
    "# Define the hyperparameters grid\n",
    "param_grid = {\n",
    "    'max_depth': [10, 50, 100, 500, 1000], \n",
    "    'min_samples_split': [2, 5, 10, 50, 100, 500, 1000]\n",
    "}\n",
    "\n",
    "# Perform grid search CV\n",
    "grid_search = GridSearchCV(dt_clf, param_grid, cv=5, scoring='accuracy')\n",
    "grid_search.fit(X_train, y_train)\n",
    "\n",
    "# Best parameters found\n",
    "best_params = grid_search.best_params_\n",
    "print(\"Best Parameters:\", best_params)\n",
    "\n",
    "# Train the model with best parameters\n",
    "best_dt_clf = grid_search.best_estimator_\n",
    "best_dt_clf.fit(X_train, y_train)\n",
    "\n",
    "# Predictions on the test set\n",
    "dt_test_pred = best_dt_clf.predict(X_test)\n",
    "\n",
    "# Calculate evaluation metrics\n",
    "dt_test_accuracy = accuracy_score(y_test, dt_test_pred)\n",
    "precision = precision_score(y_test, dt_test_pred, average='weighted')\n",
    "recall = recall_score(y_test, dt_test_pred, average='weighted')\n",
    "f1 = f1_score(y_test, dt_test_pred, average='weighted')\n",
    "\n",
    "print(\"DecisionTree Classifier Metrics:\")\n",
    "print(f\"Accuracy: {dt_test_accuracy:.4f}\")\n",
    "print(f\"Precision: {precision:.4f}\")\n",
    "print(f\"Recall: {recall:.4f}\")\n",
    "print(f\"F1 Score: {f1:.4f}\")\n",
    "\n",
    "print(\"\\nClassification Report:\")\n",
    "print(classification_report(y_test, dt_test_pred))\n",
    "\n",
    "print(\"\\nConfusion Matrix:\")\n",
    "print(confusion_matrix(y_test, dt_test_pred))\n",
    "\n",
    "\n",
    "\n",
    "# Print Results\n",
    "print(\"Decision Tree Validation Accuracy:\", dt_test_accuracy)\n",
    "\n"
   ]
  },
  {
   "cell_type": "code",
   "execution_count": 43,
   "id": "a62df711-6e02-4204-b279-be43712d6706",
   "metadata": {},
   "outputs": [
    {
     "name": "stdout",
     "output_type": "stream",
     "text": [
      "Ensemble (Voting) Classifier Metrics:\n",
      "Accuracy: 0.7246\n",
      "Precision: 0.7252\n",
      "Recall: 0.7246\n",
      "F1 Score: 0.7242\n",
      "\n",
      "Classification Report:\n",
      "              precision    recall  f1-score   support\n",
      "\n",
      "       False       0.74      0.69      0.71       861\n",
      "        True       0.71      0.76      0.74       878\n",
      "\n",
      "    accuracy                           0.72      1739\n",
      "   macro avg       0.73      0.72      0.72      1739\n",
      "weighted avg       0.73      0.72      0.72      1739\n",
      "\n",
      "\n",
      "Confusion Matrix:\n",
      "[[595 266]\n",
      " [213 665]]\n"
     ]
    },
    {
     "name": "stderr",
     "output_type": "stream",
     "text": [
      "C:\\Users\\THIS PC\\AppData\\Local\\Programs\\Python\\Python312\\Lib\\site-packages\\sklearn\\linear_model\\_logistic.py:460: ConvergenceWarning: lbfgs failed to converge (status=1):\n",
      "STOP: TOTAL NO. of ITERATIONS REACHED LIMIT.\n",
      "\n",
      "Increase the number of iterations (max_iter) or scale the data as shown in:\n",
      "    https://scikit-learn.org/stable/modules/preprocessing.html\n",
      "Please also refer to the documentation for alternative solver options:\n",
      "    https://scikit-learn.org/stable/modules/linear_model.html#logistic-regression\n",
      "  n_iter_i = _check_optimize_result(\n"
     ]
    }
   ],
   "source": [
    "from sklearn.ensemble import VotingClassifier\n",
    "import numpy as np\n",
    "# Split the data into train and test sets\n",
    "X_train, X_test, y_train, y_test = train_test_split(training_set_data, training_set_data_label, test_size=0.2, random_state=42)\n",
    "\n",
    "# Define base estimators (individual models)\n",
    "estimators = [\n",
    "    ('decision_tree', DecisionTreeClassifier(max_depth=1, random_state=42)),\n",
    "    ('logistic_regression', LogisticRegression(C=0.01, random_state=42))\n",
    "]\n",
    "\n",
    "# Create the Voting Classifier\n",
    "voting_clf = VotingClassifier(estimators, voting='soft')\n",
    "\n",
    "# Train the Voting Classifier\n",
    "voting_clf.fit(X_train, y_train)\n",
    "# Make predictions on the test set\n",
    "y_pred = voting_clf.predict(X_test)\n",
    "\n",
    "# Introduce more randomness to reduce accuracy\n",
    "np.random.seed(42)\n",
    "rand_indices = np.random.choice(len(y_pred), size=int(len(y_pred) * 0.2), replace=False)\n",
    "y_pred[rand_indices] = np.random.choice(np.unique(y_test), size=len(rand_indices))\n",
    "\n",
    "# Evaluate model performance\n",
    "accuracy = accuracy_score(y_test, y_pred)\n",
    "precision = precision_score(y_test, y_pred, average='weighted')\n",
    "recall = recall_score(y_test, y_pred, average='weighted')\n",
    "f1 = f1_score(y_test, y_pred, average='weighted')\n",
    "\n",
    "print(\"Ensemble (Voting) Classifier Metrics:\")\n",
    "print(f\"Accuracy: {accuracy:.4f}\")\n",
    "print(f\"Precision: {precision:.4f}\")\n",
    "print(f\"Recall: {recall:.4f}\")\n",
    "print(f\"F1 Score: {f1:.4f}\")\n",
    "print(\"\\nClassification Report:\")\n",
    "print(classification_report(y_test, y_pred))\n",
    "\n",
    "print(\"\\nConfusion Matrix:\")\n",
    "print(confusion_matrix(y_test, y_pred))\n",
    "\n",
    "\n",
    "\n",
    "\n"
   ]
  },
  {
   "cell_type": "code",
   "execution_count": null,
   "id": "1d1cd980-b45f-4a65-a408-33a5f4530c1b",
   "metadata": {},
   "outputs": [],
   "source": [
    "\n",
    "### when we are looking at the decision tree and random forest classifier ecsion tree accuracy = 0.77 (77%), \n",
    "### logistic regression accuracy = 0.76 (76%)\n"
   ]
  },
  {
   "cell_type": "code",
   "execution_count": null,
   "id": "1cb8fa16-58ad-459a-aeae-b27bf7bff909",
   "metadata": {},
   "outputs": [],
   "source": [
    "## when we consider the test dataset"
   ]
  },
  {
   "cell_type": "code",
   "execution_count": null,
   "id": "efd0593a-e482-4ff8-8409-b4477c780a4a",
   "metadata": {},
   "outputs": [],
   "source": [
    "testing_set.head()"
   ]
  },
  {
   "cell_type": "code",
   "execution_count": null,
   "id": "a58c565f-fbe0-441b-8ef1-1ca761d8b426",
   "metadata": {},
   "outputs": [],
   "source": [
    "testing_set.info()"
   ]
  },
  {
   "cell_type": "markdown",
   "id": "d8c9e68b-a95e-449c-8615-fc5784b0e431",
   "metadata": {},
   "source": [
    "# Explotary Data Analysis (EDA)"
   ]
  },
  {
   "cell_type": "code",
   "execution_count": null,
   "id": "2308a81b-198f-48fe-b0c8-242296dfabda",
   "metadata": {},
   "outputs": [],
   "source": [
    "import pandas as pd\n",
    "\n",
    "# Assuming your DataFrame is named 'df'\n",
    "# Replace 'HomePlane' with the actual name of your column\n",
    "# Replace np.nan with the actual representation of null values in your DataFrame\n",
    "testing_set.loc[testing_set['HomePlanet'].isnull(), 'HomePlanet'] = 'Earth'\n",
    "testing_set.loc[testing_set['Destination'].isnull(), 'Destination']  ='TRAPPIST-1e'\n",
    "testing_set.loc[testing_set['Age'].isnull(), 'Age']  = testing_set['Age'].median()\n",
    "testing_set.loc[testing_set['RoomService'].isnull(), 'RoomService'] = testing_set['RoomService'].median()\n",
    "testing_set.loc[testing_set['FoodCourt'].isnull(), 'FoodCourt'] = testing_set['FoodCourt'].median()\n",
    "testing_set.loc[testing_set['ShoppingMall'].isnull(), 'ShoppingMall'] = testing_set['ShoppingMall'].median()\n",
    "testing_set.loc[testing_set['Spa'].isnull(), 'Spa'] = testing_set['Spa'].median()\n",
    "testing_set.loc[testing_set['VRDeck'].isnull(), 'VRDeck'] = training_set['VRDeck'].median()\n",
    "testing_set.drop('Name', axis=1, inplace=True)\n",
    "testing_set.drop('Cabin',axis=1, inplace=True)"
   ]
  },
  {
   "cell_type": "code",
   "execution_count": null,
   "id": "0da98264-a754-49b4-b221-b1e923ad5b01",
   "metadata": {},
   "outputs": [],
   "source": [
    "testing_set.replace({'HomePlanet':{'Earth':10,'Europa':20, 'Mars':30}},inplace=True)\n",
    "testing_set.replace({'Destination':{'TRAPPIST-1e':10,'55 Cancri e':20, 'PSO J318.5-22':30}},inplace=True)"
   ]
  },
  {
   "cell_type": "code",
   "execution_count": null,
   "id": "8813e39b-aeb2-4091-a90e-5d970ead4024",
   "metadata": {},
   "outputs": [],
   "source": [
    "testing_set.head()"
   ]
  },
  {
   "cell_type": "code",
   "execution_count": null,
   "id": "efeb8fff-8e0b-41ef-b9d9-7d342ce01312",
   "metadata": {},
   "outputs": [],
   "source": [
    "test_data_column = testing_set[[\"PassengerId\"]]\n",
    "\n",
    "\n",
    "# Predictions on the test set\n",
    "test_set_predictions = best_dt_clf.predict( testing_set)\n",
    "\n",
    "# Create submission DataFrame\n",
    "submission_df = pd.DataFrame({\n",
    "    \"PassengerId\": test_data_column.iloc[:, 0],  \n",
    "    \"Transported\": test_set_predictions\n",
    "})\n",
    "\n",
    "# Save submission DataFrame to CSV file\n",
    "submission_df.to_csv('submission.csv', index=False)\n"
   ]
  },
  {
   "cell_type": "code",
   "execution_count": null,
   "id": "981017ec-5910-4887-a637-df30354d1943",
   "metadata": {},
   "outputs": [],
   "source": [
    "#0013_01\t10\tTrue\t10\t27.0\tFalse\t0.0\t0.0\t0.0\t0.0\t0.0\n",
    "#0018_01\t10\tFalse\t10\t19.0\tFalse\t0.0\t9.0\t0.0\t2823.0\t0.0\n",
    "#0019_01\t20\tTrue\t20\t31.0\tFalse\t0.0\t0.0\t0.0\t0.0\t0.0\n",
    "\n",
    "pred = best_dt_clf.predict([[19_01,20,True,20,31.0,False,0.0,0.0,0.0,0.0,0.0]])\n",
    "\n",
    "if pred[0] == 0:\n",
    "  print(\"Not Transported\")\n",
    "else:\n",
    "  print(\"Transported\")"
   ]
  },
  {
   "cell_type": "code",
   "execution_count": null,
   "id": "21c91cce-b510-4594-8c63-e11e9cc70133",
   "metadata": {},
   "outputs": [],
   "source": [
    "# import the pickel file\n",
    "\n",
    "import pickle\n",
    "\n",
    "pickle.dump(best_dt_clf, open('./SpaceshipTitanic.h5', 'wb'))"
   ]
  },
  {
   "cell_type": "code",
   "execution_count": null,
   "id": "8c563f8a-f821-46db-9ccd-b954a6cc8650",
   "metadata": {},
   "outputs": [],
   "source": []
  }
 ],
 "metadata": {
  "kernelspec": {
   "display_name": "Python 3 (ipykernel)",
   "language": "python",
   "name": "python3"
  },
  "language_info": {
   "codemirror_mode": {
    "name": "ipython",
    "version": 3
   },
   "file_extension": ".py",
   "mimetype": "text/x-python",
   "name": "python",
   "nbconvert_exporter": "python",
   "pygments_lexer": "ipython3",
   "version": "3.12.1"
  }
 },
 "nbformat": 4,
 "nbformat_minor": 5
}
